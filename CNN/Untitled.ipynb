{
 "cells": [
  {
   "cell_type": "code",
   "execution_count": 10,
   "id": "1ccbcfb3",
   "metadata": {},
   "outputs": [
    {
     "data": {
      "text/plain": [
       "[10, 8, 6, 5, 4, 2, 1, 0, -3, -7, -9]"
      ]
     },
     "execution_count": 10,
     "metadata": {},
     "output_type": "execute_result"
    }
   ],
   "source": [
    "import random\n",
    "\n",
    "def quicksort(numbers_array):\n",
    "   if len(numbers_array) <= 1:\n",
    "       return numbers_array\n",
    "   else:\n",
    "       m = random.choice(numbers_array)\n",
    "   temp_left = [n for n in numbers_array if n > m] \n",
    "   temp_el = [m] * numbers_array.count(m)\n",
    "   temp_right = [n for n in numbers_array if n < m]\n",
    "\n",
    "   return quicksort(temp_left) + temp_el + quicksort(temp_right)\n",
    "\n",
    "quicksort([-7,1,0,6,5,-3,8,10,-9,4,2])"
   ]
  },
  {
   "cell_type": "code",
   "execution_count": null,
   "id": "672994cc",
   "metadata": {},
   "outputs": [],
   "source": []
  }
 ],
 "metadata": {
  "kernelspec": {
   "display_name": "Python 3 (ipykernel)",
   "language": "python",
   "name": "python3"
  },
  "language_info": {
   "codemirror_mode": {
    "name": "ipython",
    "version": 3
   },
   "file_extension": ".py",
   "mimetype": "text/x-python",
   "name": "python",
   "nbconvert_exporter": "python",
   "pygments_lexer": "ipython3",
   "version": "3.9.12"
  }
 },
 "nbformat": 4,
 "nbformat_minor": 5
}
