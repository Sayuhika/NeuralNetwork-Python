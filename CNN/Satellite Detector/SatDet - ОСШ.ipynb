{
 "cells": [
  {
   "cell_type": "code",
   "execution_count": 9,
   "id": "3c4b76cb",
   "metadata": {},
   "outputs": [
    {
     "name": "stdout",
     "output_type": "stream",
     "text": [
      "AcrimSAT_ ready\n",
      "Aura_ ready\n",
      "Cassini_ ready\n",
      "Chandra_ ready\n",
      "Dawn_ ready\n",
      "Galileo_ ready\n",
      "Mars global Surveyor_ ready\n",
      "Mars Odyssey_ ready\n",
      "Maven_ ready\n",
      "TESS_ ready\n",
      "5.674649411382392\n",
      "7.539390353091537\n"
     ]
    }
   ],
   "source": [
    "from PIL import Image\n",
    "import math\n",
    "\n",
    "pathO = \"D:/Documents/CNN/Jackalizator/Origin/\"\n",
    "pathB = \"D:/Documents/CNN/Jackalizator/Blur/\"\n",
    "name = ['AcrimSAT_', 'Aura_', 'Cassini_', 'Chandra_', 'Dawn_', 'Galileo_',\n",
    "          'Mars global Surveyor_', 'Mars Odyssey_', 'Maven_', 'TESS_']\n",
    "allSNinfo = 0\n",
    "\n",
    "for i in range(10):    \n",
    "    for j in range(1000):\n",
    "        \n",
    "        fullname = name[i] + str(j) + '.png'\n",
    "        \n",
    "        imgO = Image.open(pathO + fullname)\n",
    "        imgB = Image.open(pathB + fullname)\n",
    "        \n",
    "        imgO = imgO.load()\n",
    "        imgB = imgB.load()\n",
    "        \n",
    "        energyO = 0\n",
    "        energyB = 0\n",
    "        \n",
    "        for x in range(512):\n",
    "            for y in range(512):\n",
    "                \n",
    "                energyO += imgO[x,y] * imgO[x,y]\n",
    "                energyB += (imgB[x,y] - imgO[x,y]) * (imgB[x,y] - imgO[x,y])\n",
    "        \n",
    "        allSNinfo += energyO / energyB\n",
    "        \n",
    "    print(name[i]+\" ready\")\n",
    "    \n",
    "allSNinfo /= 10000\n",
    "print(allSNinfo)\n",
    "\n",
    "allSNinfo = 10 * math.log10(allSNinfo)\n",
    "print(allSNinfo)"
   ]
  },
  {
   "cell_type": "code",
   "execution_count": null,
   "id": "64c8d0e2",
   "metadata": {},
   "outputs": [],
   "source": []
  }
 ],
 "metadata": {
  "kernelspec": {
   "display_name": "Python 3 (ipykernel)",
   "language": "python",
   "name": "python3"
  },
  "language_info": {
   "codemirror_mode": {
    "name": "ipython",
    "version": 3
   },
   "file_extension": ".py",
   "mimetype": "text/x-python",
   "name": "python",
   "nbconvert_exporter": "python",
   "pygments_lexer": "ipython3",
   "version": "3.9.12"
  }
 },
 "nbformat": 4,
 "nbformat_minor": 5
}
