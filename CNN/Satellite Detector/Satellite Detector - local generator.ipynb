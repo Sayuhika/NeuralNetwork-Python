{
 "cells": [
  {
   "cell_type": "code",
   "execution_count": 1,
   "id": "c74949de",
   "metadata": {
    "colab": {
     "base_uri": "https://localhost:8080/",
     "height": 373
    },
    "executionInfo": {
     "elapsed": 6023,
     "status": "error",
     "timestamp": 1650881133182,
     "user": {
      "displayName": "Hiruko Kohina",
      "userId": "08618434048030726216"
     },
     "user_tz": -180
    },
    "id": "c74949de",
    "outputId": "5c852f17-12cb-435d-8358-844bc0b8ef2c",
    "scrolled": true
   },
   "outputs": [
    {
     "ename": "ModuleNotFoundError",
     "errorDetails": {
      "actions": [
       {
        "action": "open_url",
        "actionText": "Open Examples",
        "url": "/notebooks/snippets/importing_libraries.ipynb"
       }
      ]
     },
     "evalue": "ignored",
     "output_type": "error",
     "traceback": [
      "\u001b[0;31m---------------------------------------------------------------------------\u001b[0m",
      "\u001b[0;31mModuleNotFoundError\u001b[0m                       Traceback (most recent call last)",
      "\u001b[0;32m<ipython-input-1-1bb1d587faf5>\u001b[0m in \u001b[0;36m<module>\u001b[0;34m()\u001b[0m\n\u001b[1;32m      7\u001b[0m \u001b[0;32mfrom\u001b[0m \u001b[0mPIL\u001b[0m \u001b[0;32mimport\u001b[0m \u001b[0mImage\u001b[0m\u001b[0;34m\u001b[0m\u001b[0;34m\u001b[0m\u001b[0m\n\u001b[1;32m      8\u001b[0m \u001b[0msys\u001b[0m\u001b[0;34m.\u001b[0m\u001b[0mpath\u001b[0m\u001b[0;34m.\u001b[0m\u001b[0minsert\u001b[0m\u001b[0;34m(\u001b[0m\u001b[0;36m1\u001b[0m\u001b[0;34m,\u001b[0m \u001b[0;34m'/home/sayuhika/anaconda3/envs/pytorch3d/lib/python3.9/site-packages'\u001b[0m\u001b[0;34m)\u001b[0m\u001b[0;34m\u001b[0m\u001b[0;34m\u001b[0m\u001b[0m\n\u001b[0;32m----> 9\u001b[0;31m \u001b[0;32mimport\u001b[0m \u001b[0mpytorch3d\u001b[0m\u001b[0;34m\u001b[0m\u001b[0;34m\u001b[0m\u001b[0m\n\u001b[0m\u001b[1;32m     10\u001b[0m \u001b[0;34m\u001b[0m\u001b[0m\n\u001b[1;32m     11\u001b[0m \u001b[0;31m# Util function for loading meshes\u001b[0m\u001b[0;34m\u001b[0m\u001b[0;34m\u001b[0m\u001b[0;34m\u001b[0m\u001b[0m\n",
      "\u001b[0;31mModuleNotFoundError\u001b[0m: No module named 'pytorch3d'",
      "",
      "\u001b[0;31m---------------------------------------------------------------------------\u001b[0;32m\nNOTE: If your import is failing due to a missing package, you can\nmanually install dependencies using either !pip or !apt.\n\nTo view examples of installing some common dependencies, click the\n\"Open Examples\" button below.\n\u001b[0;31m---------------------------------------------------------------------------\u001b[0m\n"
     ]
    }
   ],
   "source": [
    "import os\n",
    "import sys\n",
    "import matplotlib.pyplot as plt\n",
    "import torch\n",
    "import random\n",
    "import gc\n",
    "from PIL import Image\n",
    "sys.path.insert(1, '/home/sayuhika/anaconda3/envs/pytorch3d/lib/python3.9/site-packages')\n",
    "import pytorch3d\n",
    "\n",
    "# Util function for loading meshes\n",
    "from pytorch3d.io import load_objs_as_meshes, load_obj\n",
    "\n",
    "# Data structures and functions for rendering\n",
    "from pytorch3d.structures import Meshes\n",
    "from pytorch3d.vis.plotly_vis import AxisArgs, plot_batch_individually, plot_scene\n",
    "from pytorch3d.vis.texture_vis import texturesuv_image_matplotlib\n",
    "from pytorch3d.renderer import (\n",
    "    look_at_view_transform,\n",
    "    FoVPerspectiveCameras, \n",
    "    PointLights, \n",
    "    DirectionalLights, \n",
    "    Materials, \n",
    "    RasterizationSettings, \n",
    "    MeshRenderer, \n",
    "    MeshRasterizer,  \n",
    "    SoftPhongShader,\n",
    "    TexturesUV,\n",
    "    TexturesVertex,\n",
    "    BlendParams,\n",
    ")\n",
    "\n",
    "# add path for demo utils functions \n",
    "sys.path.append(os.path.abspath(''))"
   ]
  },
  {
   "cell_type": "code",
   "execution_count": null,
   "id": "e2b81e1f",
   "metadata": {
    "id": "e2b81e1f"
   },
   "outputs": [],
   "source": [
    "AllSatellitesNames = {\n",
    "    \"AcrimSAT\": 3, \n",
    "    \"Aqua\": 27, \n",
    "    \"Aura\": 27, \n",
    "    \"Cassini\": 22, \n",
    "    \"Chandra\": 26, \n",
    "    \"Dawn\": 17, \n",
    "    \"Galileo\": 24,\n",
    "    \"Mars Global Surveyor\": 15, \n",
    "    \"Mars Odyssey\": 10, \n",
    "    \"Maven\": 14, \n",
    "    \"TESS\": 10\n",
    "    };\n",
    "\n",
    "def CreateSatellitesDataset(file_names = [*AllSatellitesNames], sample_count = 10, resolution = 512, lavtE_min = 0, lavtE_max = 360, lavtA_min = 0, lavtA_max = 360, lavtD_koff = 0):\n",
    "  ExistingNames = [*AllSatellitesNames]\n",
    "  AcceptableNames = [x for x in ExistingNames if x in file_names]\n",
    "\n",
    "  if torch.cuda.is_available():\n",
    "      device = torch.device(\"cuda:0\")\n",
    "      torch.cuda.set_device(device)\n",
    "      print(device)\n",
    "  else:\n",
    "      device = torch.device(\"cpu\")\n",
    "      print(device)\n",
    "\n",
    "    # Renderer parameters\n",
    "  raster_settings = RasterizationSettings(\n",
    "    image_size=resolution, \n",
    "    blur_radius=0.0, \n",
    "    faces_per_pixel=1, \n",
    "  )\n",
    "  blend_params = BlendParams(background_color=(0,0,0))\n",
    "\n",
    "  lights = PointLights(device=device)\n",
    "  lights.location = torch.tensor([[7, 7.0, -7.0]], device=device)\n",
    "  materials = Materials(\n",
    "      device=device,\n",
    "      specular_color=[[1.0, 1.0, 1.0]],\n",
    "      shininess=10.0\n",
    "  )\n",
    "\n",
    "  renderer = MeshRenderer(\n",
    "      rasterizer=MeshRasterizer(\n",
    "          raster_settings=raster_settings\n",
    "      ),\n",
    "      shader=SoftPhongShader(\n",
    "          device=device, \n",
    "          lights=lights,\n",
    "          blend_params=blend_params\n",
    "      )\n",
    "  )\n",
    "\n",
    "  file_csv = open(\"/home/sayuhika/CNN/Satellites Detector/SatellitesDataset/labels.csv\", \"w\")  \n",
    "  DATA_DIR = \"/home/sayuhika/CNN/Satellites Detector/Satellite Models\"\n",
    "\n",
    "    # Generation of dataset images\n",
    "  for x in AcceptableNames: \n",
    "    obj_filename = os.path.join(DATA_DIR, x + \"/\" + x + \".obj\")\n",
    "    mesh = load_objs_as_meshes([obj_filename], device=device, create_texture_atlas=True, texture_atlas_size=30)\n",
    "\n",
    "    for i in range(sample_count):\n",
    "        # Camera settings\n",
    "      lavtE = random.randint(lavtE_min, lavtE_max)\n",
    "      lavtA = random.randint(lavtA_min, lavtA_max)\n",
    "      R, T = look_at_view_transform(AllSatellitesNames[x] + lavtD_koff, lavtE, lavtA)\n",
    "      cameras = FoVPerspectiveCameras(device=device, R=R, T=T)\n",
    "\n",
    "        # Model rendering   \n",
    "      rlx = random.uniform(5, 10) * (random.randint(0, 1) - 0.5) * 2\n",
    "      rly = random.uniform(5, 10) * (random.randint(0, 1) - 0.5) * 2\n",
    "      rlz = random.uniform(5, 10) * (random.randint(0, 1) - 0.5) * 2\n",
    "      lights.location = torch.tensor([[rlx, rly, rlz]], device=device)\n",
    "      images = renderer(mesh, lights=lights, materials=materials, cameras=cameras)\n",
    "      #images = images.permute(0,3,1,2)\n",
    "      #images = torch.nn.functional.avg_pool2d(images, kernel_size=3, stride=3)\n",
    "      #images = images.permute(0,2,3,1)\n",
    "      image = images[0, ..., :3].cpu().numpy()\n",
    "\n",
    "        # Making BW image and save\n",
    "      image_name = \"/home/sayuhika/CNN/Satellites Detector/SatellitesDataset/satellites_data/\"+ x + \"_\" + str(i) + \".png\" \n",
    "      plt.figure(figsize=(10, 10))\n",
    "      plt.imsave(image_name, image)\n",
    "      plt.close('all')\n",
    "      plt.clf()\n",
    "      del lavtE, lavtA, R, T, cameras, rlx, rly, rlz, images, image\n",
    "      \n",
    "      with Image.open(image_name) as image:\n",
    "          image = image.convert(\"L\")\n",
    "          image.save(image_name)\n",
    "      del image_name, image\n",
    "        \n",
    "      temptext = x + \"_\" + str(i) + \".png\" + \", \" + str(ExistingNames.index(x)) + \"\\n\"\n",
    "      print(temptext)\n",
    "      file_csv.write(temptext)\n",
    "      file_csv.flush()\n",
    "      del temptext\n",
    "\n",
    "      torch.cuda.empty_cache()\n",
    "      gc.collect()\n",
    "    \n",
    "    del mesh\n",
    "    \n",
    "  file_csv.close()"
   ]
  },
  {
   "cell_type": "code",
   "execution_count": null,
   "id": "a0a5933c",
   "metadata": {
    "id": "a0a5933c"
   },
   "outputs": [],
   "source": [
    "CreateSatellitesDataset(file_names=['AcrimSAT', 'Cassini'],sample_count=1000, lavtD_koff=2)"
   ]
  },
  {
   "cell_type": "code",
   "execution_count": null,
   "id": "b898c162",
   "metadata": {
    "id": "b898c162"
   },
   "outputs": [],
   "source": []
  }
 ],
 "metadata": {
  "colab": {
   "name": "Satellite Detector.ipynb",
   "provenance": []
  },
  "kernelspec": {
   "display_name": "Python 3 (ipykernel)",
   "language": "python",
   "name": "python3"
  },
  "language_info": {
   "codemirror_mode": {
    "name": "ipython",
    "version": 3
   },
   "file_extension": ".py",
   "mimetype": "text/x-python",
   "name": "python",
   "nbconvert_exporter": "python",
   "pygments_lexer": "ipython3",
   "version": "3.9.12"
  }
 },
 "nbformat": 4,
 "nbformat_minor": 5
}
